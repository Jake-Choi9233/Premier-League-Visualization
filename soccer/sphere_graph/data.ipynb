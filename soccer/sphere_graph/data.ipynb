{
 "cells": [
  {
   "cell_type": "code",
   "execution_count": null,
   "metadata": {},
   "outputs": [],
   "source": [
    "import pandas as pd\n",
    "\n",
    "# turn xlsx to csv\n",
    "df = pd.read_excel('./con_merge.xlsx')\n",
    "df.to_csv('./con_merge.csv', index=False)"
   ]
  },
  {
   "cell_type": "code",
   "execution_count": null,
   "metadata": {},
   "outputs": [],
   "source": [
    "\n",
    "# 读取两个CSV文件\n",
    "df_con_merge = pd.read_csv('./con_merge.csv')\n",
    "df_con_merge_rank = pd.read_csv('./con_merge_rank.csv')\n",
    "\n",
    "# 用con_merge的all_latitude列和all_longitude列，给con_merge_rank的对应列赋值\n",
    "df_con_merge_rank['all_latitude'] = df_con_merge['all_latitude']\n",
    "df_con_merge_rank['all_longitude'] = df_con_merge['all_longitude']\n",
    "\n",
    "# 保存更新后的DataFrame到新的CSV文件\n",
    "df_con_merge_rank.to_csv('./con_merge_rank_s.csv', index=False)"
   ]
  }
 ],
 "metadata": {
  "kernelspec": {
   "display_name": "Python 3",
   "language": "python",
   "name": "python3"
  },
  "language_info": {
   "name": "python",
   "version": "3.12.7"
  }
 },
 "nbformat": 4,
 "nbformat_minor": 2
}
